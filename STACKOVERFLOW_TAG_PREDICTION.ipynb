{
  "nbformat": 4,
  "nbformat_minor": 0,
  "metadata": {
    "colab": {
      "name": "stackoverflow project.ipynb",
      "version": "0.3.2",
      "provenance": []
    },
    "language_info": {
      "codemirror_mode": {
        "name": "ipython",
        "version": 3
      },
      "file_extension": ".py",
      "mimetype": "text/x-python",
      "name": "python",
      "nbconvert_exporter": "python",
      "pygments_lexer": "ipython3",
      "version": "3.6.5"
    },
    "kernelspec": {
      "display_name": "Python 3",
      "language": "python",
      "name": "python3"
    }
  },
  "cells": [
    {
      "metadata": {
        "id": "5JzvqL-trnkj",
        "colab_type": "code",
        "colab": {}
      },
      "cell_type": "code",
      "source": [
        "import sqlite3\n",
        "import pandas as pd\n",
        "from nltk.tokenize import word_tokenize\n",
        "from sqlalchemy import create_engine # database connection\n",
        "import os\n",
        "import datetime as dt\n",
        "from datetime import datetime"
      ],
      "execution_count": 0,
      "outputs": []
    },
    {
      "metadata": {
        "id": "D2nWF3z3rnkq",
        "colab_type": "code",
        "colab": {}
      },
      "cell_type": "code",
      "source": [
        "#Creating db file from csv\n",
        "#Learn SQL: https://www.w3schools.com/sql/default.asp\n",
        "if not os.path.isfile('trainy.db'):\n",
        "    start = datetime.now()\n",
        "    disk_engine = create_engine('sqlite:///trainy.db')\n",
        "    start = dt.datetime.now()\n",
        "    chunksize = 10000\n",
        "    j = 0\n",
        "    index_start = 1\n",
        "    for df in pd.read_csv('no_dup_train.csv', names=['Id', 'Title', 'Body', 'Tags'], chunksize=chunksize, iterator=True, encoding='utf-8', ):\n",
        "        df.index += index_start\n",
        "        j+=1\n",
        "        print('{} rows'.format(j*chunksize))\n",
        "        df.to_sql('no_dup_train', disk_engine, if_exists='append')\n",
        "        index_start = df.index[-1] + 1\n",
        "    print(\"Time taken to run this cell :\", datetime.now() - start)"
      ],
      "execution_count": 0,
      "outputs": []
    },
    {
      "metadata": {
        "id": "MWhls46Wrnkv",
        "colab_type": "code",
        "colab": {},
        "outputId": "79467f64-3a42-4202-d4e8-7693c0615333"
      },
      "cell_type": "code",
      "source": [
        "#Learn SQl: https://www.w3schools.com/sql/default.asp\n",
        "if os.path.isfile('trainy.db'):\n",
        "    start = datetime.now()\n",
        "    con = sqlite3.connect('trainy.db')\n",
        "    data = pd.read_sql_query('SELECT * FROM no_dup_train LIMIT 50000', con)\n",
        "    con.close()#SELECT * FROM `your_table` LIMIT 1001, 5000 \n",
        "    print(\"Time taken to run this cell :\", datetime.now() - start)\n",
        "else:\n",
        "    print(\"Please download the train.db file from drive or run the first to genarate train.db file\")"
      ],
      "execution_count": 0,
      "outputs": [
        {
          "output_type": "stream",
          "text": [
            "Time taken to run this cell : 0:00:02.445675\n"
          ],
          "name": "stdout"
        }
      ]
    },
    {
      "metadata": {
        "id": "CU5f1TPqrnk2",
        "colab_type": "code",
        "colab": {}
      },
      "cell_type": "code",
      "source": [
        "#very important thing to learn here is that for list we should not use \n",
        "#list.len(). we should use len(list)\n",
        "#iam just specifying number of tags occuring in each question\n",
        "data['tagcount']=data['Tags'].apply(lambda text: len(text.split()))"
      ],
      "execution_count": 0,
      "outputs": []
    },
    {
      "metadata": {
        "id": "7FsN1w45rnk6",
        "colab_type": "code",
        "colab": {},
        "outputId": "c0613551-6482-4fa9-aa5f-afe053ca0ce0"
      },
      "cell_type": "code",
      "source": [
        "#if u want to draw bar graph for the tags youn can specify\n",
        "#value_counts().plot(kind='bar')\n",
        "%matplotlib inline\n",
        "import matplotlib.pyplot as plt\n",
        "data['tagcount'].value_counts().plot(kind='bar')"
      ],
      "execution_count": 0,
      "outputs": [
        {
          "output_type": "execute_result",
          "data": {
            "text/plain": [
              "<matplotlib.axes._subplots.AxesSubplot at 0x15252eb0>"
            ]
          },
          "metadata": {
            "tags": []
          },
          "execution_count": 6
        },
        {
          "output_type": "display_data",
          "data": {
            "image/png": "[encoded data removed]",
            "text/plain": [
              "<Figure size 432x288 with 1 Axes>"
            ]
          },
          "metadata": {
            "tags": []
          }
        }
      ]
    },
    {
      "metadata": {
        "id": "iEYYa2KsrnlB",
        "colab_type": "code",
        "colab": {}
      },
      "cell_type": "code",
      "source": [
        "data=data.drop_duplicates(subset={'Title','Tags','tagcount'},keep='first')"
      ],
      "execution_count": 0,
      "outputs": []
    },
    {
      "metadata": {
        "id": "OnayMZSCrnlF",
        "colab_type": "code",
        "colab": {}
      },
      "cell_type": "code",
      "source": [
        "#we have already seen one important thing in countvectorizer \n",
        "#that is get_feature_names()\n",
        "from sklearn.feature_extraction.text import CountVectorizer\n",
        "#In this only i got to know giving tokenizer is much important\n",
        "vect=CountVectorizer(tokenizer=lambda x: x.split())\n",
        "tagdatamatrix=vect.fit_transform(data['Tags'])"
      ],
      "execution_count": 0,
      "outputs": []
    },
    {
      "metadata": {
        "id": "nyxcTWtkrnlI",
        "colab_type": "code",
        "colab": {},
        "outputId": "45e0207f-039f-402e-f3bb-31a95b1a2c6b"
      },
      "cell_type": "code",
      "source": [
        "#this will tell me no. of datapoints\n",
        "print(tagdatamatrix.shape[0])\n",
        "#to know number of unique tags\n",
        "print(tagdatamatrix.shape[1])\n",
        "#to know what are the tags present\n",
        "tagy=vect.get_feature_names()\n",
        "tagy[:10]\n",
        "#see tsgy is a type of listso we cant give tagy.head()\n",
        "#we can mention like this that the number of elements i require\n",
        "#but like data[:10] we can give for dataframe"
      ],
      "execution_count": 0,
      "outputs": [
        {
          "output_type": "stream",
          "text": [
            "49725\n",
            "12504\n"
          ],
          "name": "stdout"
        },
        {
          "output_type": "execute_result",
          "data": {
            "text/plain": [
              "['.aspxauth',\n",
              " '.bash-profile',\n",
              " '.class-file',\n",
              " '.doc',\n",
              " '.each',\n",
              " '.emf',\n",
              " '.exe',\n",
              " '.htaccess',\n",
              " '.htpasswd',\n",
              " '.ico']"
            ]
          },
          "metadata": {
            "tags": []
          },
          "execution_count": 9
        }
      ]
    },
    {
      "metadata": {
        "id": "Y6_IrkjVrnlR",
        "colab_type": "code",
        "colab": {}
      },
      "cell_type": "code",
      "source": [
        "#now i want to know each tag occuring number of times\n",
        "freqs=tagdatamatrix.sum(axis=0).A1\n",
        "res=dict(zip(tagy,freqs))\n"
      ],
      "execution_count": 0,
      "outputs": []
    },
    {
      "metadata": {
        "id": "iO7eEtzDrnlU",
        "colab_type": "code",
        "colab": {}
      },
      "cell_type": "code",
      "source": [
        "# this is the important invention i have a set i want it to \n",
        "#convert it into dataframe so i first convert it into\n",
        "#list wit setname.items() and i use pd.DataFrame specifying\n",
        "#column names\n",
        "s=pd.DataFrame(list(res.items()),columns=['tags','counts'])"
      ],
      "execution_count": 0,
      "outputs": []
    },
    {
      "metadata": {
        "id": "IfXgt2pZrnlY",
        "colab_type": "code",
        "colab": {},
        "outputId": "bf49e3ff-0fdb-4924-bf6a-264c515d8dd3"
      },
      "cell_type": "code",
      "source": [
        "s.head()"
      ],
      "execution_count": 0,
      "outputs": [
        {
          "output_type": "execute_result",
          "data": {
            "text/html": [
              "<div>\n",
              "<style scoped>\n",
              "    .dataframe tbody tr th:only-of-type {\n",
              "        vertical-align: middle;\n",
              "    }\n",
              "\n",
              "    .dataframe tbody tr th {\n",
              "        vertical-align: top;\n",
              "    }\n",
              "\n",
              "    .dataframe thead th {\n",
              "        text-align: right;\n",
              "    }\n",
              "</style>\n",
              "<table border=\"1\" class=\"dataframe\">\n",
              "  <thead>\n",
              "    <tr style=\"text-align: right;\">\n",
              "      <th></th>\n",
              "      <th>tags</th>\n",
              "      <th>counts</th>\n",
              "    </tr>\n",
              "  </thead>\n",
              "  <tbody>\n",
              "    <tr>\n",
              "      <th>0</th>\n",
              "      <td>.aspxauth</td>\n",
              "      <td>1</td>\n",
              "    </tr>\n",
              "    <tr>\n",
              "      <th>1</th>\n",
              "      <td>.bash-profile</td>\n",
              "      <td>4</td>\n",
              "    </tr>\n",
              "    <tr>\n",
              "      <th>2</th>\n",
              "      <td>.class-file</td>\n",
              "      <td>1</td>\n",
              "    </tr>\n",
              "    <tr>\n",
              "      <th>3</th>\n",
              "      <td>.doc</td>\n",
              "      <td>3</td>\n",
              "    </tr>\n",
              "    <tr>\n",
              "      <th>4</th>\n",
              "      <td>.each</td>\n",
              "      <td>16</td>\n",
              "    </tr>\n",
              "  </tbody>\n",
              "</table>\n",
              "</div>"
            ],
            "text/plain": [
              "            tags  counts\n",
              "0      .aspxauth       1\n",
              "1  .bash-profile       4\n",
              "2    .class-file       1\n",
              "3           .doc       3\n",
              "4          .each      16"
            ]
          },
          "metadata": {
            "tags": []
          },
          "execution_count": 12
        }
      ]
    },
    {
      "metadata": {
        "id": "EnStQQUnrnlc",
        "colab_type": "code",
        "colab": {}
      },
      "cell_type": "code",
      "source": [
        "#now we wnt dataframe to be sorted so i can use sort.values() function\n",
        "ssorted=s.sort_values(['counts'],ascending=False)"
      ],
      "execution_count": 0,
      "outputs": []
    },
    {
      "metadata": {
        "id": "21QB5MTcrnli",
        "colab_type": "code",
        "colab": {},
        "outputId": "087cf2c0-319e-4bd1-9577-d8ae891195da"
      },
      "cell_type": "code",
      "source": [
        "ssorted.head()"
      ],
      "execution_count": 0,
      "outputs": [
        {
          "output_type": "execute_result",
          "data": {
            "text/html": [
              "<div>\n",
              "<style scoped>\n",
              "    .dataframe tbody tr th:only-of-type {\n",
              "        vertical-align: middle;\n",
              "    }\n",
              "\n",
              "    .dataframe tbody tr th {\n",
              "        vertical-align: top;\n",
              "    }\n",
              "\n",
              "    .dataframe thead th {\n",
              "        text-align: right;\n",
              "    }\n",
              "</style>\n",
              "<table border=\"1\" class=\"dataframe\">\n",
              "  <thead>\n",
              "    <tr style=\"text-align: right;\">\n",
              "      <th></th>\n",
              "      <th>tags</th>\n",
              "      <th>counts</th>\n",
              "    </tr>\n",
              "  </thead>\n",
              "  <tbody>\n",
              "    <tr>\n",
              "      <th>12</th>\n",
              "      <td>.net</td>\n",
              "      <td>5094</td>\n",
              "    </tr>\n",
              "    <tr>\n",
              "      <th>1413</th>\n",
              "      <td>c#</td>\n",
              "      <td>4615</td>\n",
              "    </tr>\n",
              "    <tr>\n",
              "      <th>8159</th>\n",
              "      <td>php</td>\n",
              "      <td>2817</td>\n",
              "    </tr>\n",
              "    <tr>\n",
              "      <th>5695</th>\n",
              "      <td>jquery</td>\n",
              "      <td>2540</td>\n",
              "    </tr>\n",
              "    <tr>\n",
              "      <th>5533</th>\n",
              "      <td>java</td>\n",
              "      <td>2498</td>\n",
              "    </tr>\n",
              "  </tbody>\n",
              "</table>\n",
              "</div>"
            ],
            "text/plain": [
              "        tags  counts\n",
              "12      .net    5094\n",
              "1413      c#    4615\n",
              "8159     php    2817\n",
              "5695  jquery    2540\n",
              "5533    java    2498"
            ]
          },
          "metadata": {
            "tags": []
          },
          "execution_count": 14
        }
      ]
    },
    {
      "metadata": {
        "id": "dfksUr-Arnlm",
        "colab_type": "code",
        "colab": {}
      },
      "cell_type": "code",
      "source": [
        "#now i take an array i take values of ssorted counts\n",
        "scounts=ssorted['counts'].values"
      ],
      "execution_count": 0,
      "outputs": []
    },
    {
      "metadata": {
        "id": "563PzY3nrnlq",
        "colab_type": "code",
        "colab": {},
        "outputId": "21cedf22-a349-4f73-c56f-af67ffa687db"
      },
      "cell_type": "code",
      "source": [
        "#now i plot a grid plot since it is continous values\n",
        "plt.plot(scounts)\n",
        "plt.grid()\n",
        "plt.xlabel(\"tag number\")\n",
        "plt.ylabel(\"number of times\")\n",
        "plt.show()"
      ],
      "execution_count": 0,
      "outputs": [
        {
          "output_type": "display_data",
          "data": {
            "image/png": "[encoded data removed]",
            "text/plain": [
              "<Figure size 432x288 with 1 Axes>"
            ]
          },
          "metadata": {
            "tags": []
          }
        }
      ]
    },
    {
      "metadata": {
        "id": "IeTKTPytrnlw",
        "colab_type": "code",
        "colab": {},
        "outputId": "0cfeed2f-25cb-4b7c-e187-cf87e0965e4c"
      },
      "cell_type": "code",
      "source": [
        "data.head()"
      ],
      "execution_count": 0,
      "outputs": [
        {
          "output_type": "execute_result",
          "data": {
            "text/html": [
              "<div>\n",
              "<style scoped>\n",
              "    .dataframe tbody tr th:only-of-type {\n",
              "        vertical-align: middle;\n",
              "    }\n",
              "\n",
              "    .dataframe tbody tr th {\n",
              "        vertical-align: top;\n",
              "    }\n",
              "\n",
              "    .dataframe thead th {\n",
              "        text-align: right;\n",
              "    }\n",
              "</style>\n",
              "<table border=\"1\" class=\"dataframe\">\n",
              "  <thead>\n",
              "    <tr style=\"text-align: right;\">\n",
              "      <th></th>\n",
              "      <th>index</th>\n",
              "      <th>Title</th>\n",
              "      <th>Body</th>\n",
              "      <th>Tags</th>\n",
              "      <th>tagcount</th>\n",
              "    </tr>\n",
              "  </thead>\n",
              "  <tbody>\n",
              "    <tr>\n",
              "      <th>0</th>\n",
              "      <td>0</td>\n",
              "      <td>Implementing Boundary Value Analysis of S...</td>\n",
              "      <td>&lt;pre&gt;&lt;code&gt;#include&amp;lt;iostream&amp;gt;\\n#include&amp;...</td>\n",
              "      <td>c++ c</td>\n",
              "      <td>2</td>\n",
              "    </tr>\n",
              "    <tr>\n",
              "      <th>1</th>\n",
              "      <td>1</td>\n",
              "      <td>Dynamic Datagrid Binding in Silverlight?</td>\n",
              "      <td>&lt;p&gt;I should do binding for datagrid dynamicall...</td>\n",
              "      <td>c# silverlight data-binding</td>\n",
              "      <td>3</td>\n",
              "    </tr>\n",
              "    <tr>\n",
              "      <th>2</th>\n",
              "      <td>2</td>\n",
              "      <td>Dynamic Datagrid Binding in Silverlight?</td>\n",
              "      <td>&lt;p&gt;I should do binding for datagrid dynamicall...</td>\n",
              "      <td>c# silverlight data-binding columns</td>\n",
              "      <td>4</td>\n",
              "    </tr>\n",
              "    <tr>\n",
              "      <th>3</th>\n",
              "      <td>3</td>\n",
              "      <td>java.lang.NoClassDefFoundError: javax/serv...</td>\n",
              "      <td>&lt;p&gt;I followed the guide in &lt;a href=\"http://sta...</td>\n",
              "      <td>jsp jstl</td>\n",
              "      <td>2</td>\n",
              "    </tr>\n",
              "    <tr>\n",
              "      <th>4</th>\n",
              "      <td>4</td>\n",
              "      <td>java.sql.SQLException:[Microsoft][ODBC Dri...</td>\n",
              "      <td>&lt;p&gt;I use the following code&lt;/p&gt;\\n\\n&lt;pre&gt;&lt;code&gt;...</td>\n",
              "      <td>java jdbc</td>\n",
              "      <td>2</td>\n",
              "    </tr>\n",
              "  </tbody>\n",
              "</table>\n",
              "</div>"
            ],
            "text/plain": [
              "   index                                              Title  \\\n",
              "0      0       Implementing Boundary Value Analysis of S...   \n",
              "1      1           Dynamic Datagrid Binding in Silverlight?   \n",
              "2      2           Dynamic Datagrid Binding in Silverlight?   \n",
              "3      3      java.lang.NoClassDefFoundError: javax/serv...   \n",
              "4      4      java.sql.SQLException:[Microsoft][ODBC Dri...   \n",
              "\n",
              "                                                Body  \\\n",
              "0  <pre><code>#include&lt;iostream&gt;\\n#include&...   \n",
              "1  <p>I should do binding for datagrid dynamicall...   \n",
              "2  <p>I should do binding for datagrid dynamicall...   \n",
              "3  <p>I followed the guide in <a href=\"http://sta...   \n",
              "4  <p>I use the following code</p>\\n\\n<pre><code>...   \n",
              "\n",
              "                                  Tags  tagcount  \n",
              "0                                c++ c         2  \n",
              "1          c# silverlight data-binding         3  \n",
              "2  c# silverlight data-binding columns         4  \n",
              "3                             jsp jstl         2  \n",
              "4                            java jdbc         2  "
            ]
          },
          "metadata": {
            "tags": []
          },
          "execution_count": 17
        }
      ]
    },
    {
      "metadata": {
        "id": "W_FaG0dUrnl2",
        "colab_type": "code",
        "colab": {},
        "outputId": "1a9ec3be-cc04-4119-9bdb-69c81db59b91"
      },
      "cell_type": "code",
      "source": [
        "data['Body'].head()"
      ],
      "execution_count": 0,
      "outputs": [
        {
          "output_type": "execute_result",
          "data": {
            "text/plain": [
              "0    <pre><code>#include&lt;iostream&gt;\\n#include&...\n",
              "1    <p>I should do binding for datagrid dynamicall...\n",
              "2    <p>I should do binding for datagrid dynamicall...\n",
              "3    <p>I followed the guide in <a href=\"http://sta...\n",
              "4    <p>I use the following code</p>\\n\\n<pre><code>...\n",
              "Name: Body, dtype: object"
            ]
          },
          "metadata": {
            "tags": []
          },
          "execution_count": 18
        }
      ]
    },
    {
      "metadata": {
        "id": "fAV68EV-rnl7",
        "colab_type": "code",
        "colab": {},
        "outputId": "35c1da1e-bec6-4e15-8ea6-262f5cba89b5"
      },
      "cell_type": "code",
      "source": [
        "a=str(data['Body'][:1])\n",
        "print(a)\n",
        "data['Body'][2]"
      ],
      "execution_count": 0,
      "outputs": [
        {
          "output_type": "stream",
          "text": [
            "0    <pre><code>#include&lt;iostream&gt;\\n#include&...\n",
            "Name: Body, dtype: object\n"
          ],
          "name": "stdout"
        },
        {
          "output_type": "execute_result",
          "data": {
            "text/plain": [
              "\"<p>I should do binding for datagrid dynamically at code. I wrote the code as below. When I debug this code block, it seems that it does bindings correctly, but grid comes with no columns on form.</p>\\n\\n<pre><code>MyClass myInstance = new MyClass();\\ndataGridObject = new DataGrid();\\ndataGridObject.Width = 200;\\ndataGridObject.Height = 200;\\nbinding = new Binding();\\nbinding.Source = myInstance;\\nforeach (PropertyInfo prop in myInstance.GetType().GetProperties())\\n{\\n    binding.Path = new PropertyPath(prop.Name);\\n    DataGridTextColumn column = new DataGridTextColumn();\\n    column.Header = prop.Name;\\n    column.Binding = new Binding(prop.Name);\\n    dataGridObject.Columns.Add(column);\\n}\\n\\ndataGridObject.ItemSource = myInstanceList;\\n</code></pre>\\n\\n<p>Why doesn't come grid with columns, although I did necessary bindings?\\nThanks for the replies in advance..</p>\\n\""
            ]
          },
          "metadata": {
            "tags": []
          },
          "execution_count": 19
        }
      ]
    },
    {
      "metadata": {
        "id": "m9c-lJhWrnmI",
        "colab_type": "code",
        "colab": {}
      },
      "cell_type": "code",
      "source": [
        "import re\n",
        "import nltk\n",
        "from nltk.corpus import stopwords\n",
        "from nltk.stem import SnowballStemmer\n",
        "def striphtml(data):\n",
        "    cleanr = re.compile('<.*?>')\n",
        "    cleantext = re.sub(cleanr, ' ', str(data))\n",
        "    return cleantext\n",
        "stop_words=set(stopwords.words('english'))\n",
        "stemmer=SnowballStemmer(\"english\")"
      ],
      "execution_count": 0,
      "outputs": []
    },
    {
      "metadata": {
        "id": "LYdN6Cp8rnmN",
        "colab_type": "code",
        "colab": {},
        "outputId": "27957d1f-4cf3-4bda-dcbc-e996bb8c2e0b"
      },
      "cell_type": "code",
      "source": [
        "def create_connection(db_file):\n",
        "    \"\"\" create a database connection to the SQLite database\n",
        "        specified by db_file\n",
        "    :param db_file: database file\n",
        "    :return: Connection object or None\n",
        "    \"\"\"\n",
        "    try:\n",
        "        conn = sqlite3.connect(db_file)\n",
        "        return conn\n",
        "    except Error as e:\n",
        "        print(e)\n",
        " \n",
        "    return None\n",
        "\n",
        "def create_table(conn, create_table_sql):\n",
        "    \"\"\" create a table from the create_table_sql statement\n",
        "    :param conn: Connection object\n",
        "    :param create_table_sql: a CREATE TABLE statement\n",
        "    :return:\n",
        "    \"\"\"\n",
        "    try:\n",
        "        c = conn.cursor()\n",
        "        c.execute(create_table_sql)\n",
        "    except Error as e:\n",
        "        print(e)\n",
        "        \n",
        "def checkTableExists(dbcon):\n",
        "    cursr = dbcon.cursor()\n",
        "    str = \"select name from sqlite_master where type='table'\"\n",
        "    table_names = cursr.execute(str)\n",
        "    print(\"Tables in the databse:\")\n",
        "    tables =table_names.fetchall() \n",
        "    print(tables[0][0])\n",
        "    return(len(tables))\n",
        "\n",
        "def create_database_table(database, query):\n",
        "    conn = create_connection(database)\n",
        "    if conn is not None:\n",
        "        create_table(conn, query)\n",
        "        checkTableExists(conn)\n",
        "    else:\n",
        "        print(\"Error! cannot create the database connection.\")\n",
        "    conn.close()\n",
        "\n",
        "sql_create_table = \"\"\"CREATE TABLE IF NOT EXISTS QuestionsProcessed (question text NOT NULL, code text, tags text, words_pre integer, words_post integer, is_code integer);\"\"\"\n",
        "create_database_table(\"Processed.db\", sql_create_table)"
      ],
      "execution_count": 0,
      "outputs": [
        {
          "output_type": "stream",
          "text": [
            "Tables in the databse:\n",
            "QuestionsProcessed\n"
          ],
          "name": "stdout"
        }
      ]
    },
    {
      "metadata": {
        "id": "MxslqNEUrnmV",
        "colab_type": "code",
        "colab": {},
        "outputId": "5a8f6e81-c74b-4ffc-f837-e3893a1e1df9"
      },
      "cell_type": "code",
      "source": [
        "# http://www.sqlitetutorial.net/sqlite-delete/\n",
        "# https://stackoverflow.com/questions/2279706/select-random-row-from-a-sqlite-table\n",
        "start = datetime.now()\n",
        "read_db = 'trainy.db'\n",
        "#vv.v.vimportant thing i am giving 'Processed.db'as my write_db\n",
        "write_db = 'Processed.db'\n",
        "if os.path.isfile(read_db):\n",
        "    conn_r = create_connection(read_db)\n",
        "    if conn_r is not None:\n",
        "        reader =conn_r.cursor()\n",
        "        reader.execute(\"SELECT Title, Body, Tags From no_dup_train ORDER BY RANDOM() LIMIT 10000;\")\n",
        "\n",
        "if os.path.isfile(write_db):\n",
        "    conn_w = create_connection(write_db)\n",
        "    if conn_w is not None:\n",
        "        tables = checkTableExists(conn_w)\n",
        "        writer =conn_w.cursor()\n",
        "        if tables != 0:\n",
        "            writer.execute(\"DELETE FROM QuestionsProcessed WHERE 1\")\n",
        "            print(\"Cleared All the rows\")\n",
        "print(\"Time taken to run this cell :\", datetime.now() - start)"
      ],
      "execution_count": 0,
      "outputs": [
        {
          "output_type": "stream",
          "text": [
            "Tables in the databse:\n",
            "QuestionsProcessed\n",
            "Cleared All the rows\n",
            "Time taken to run this cell : 0:03:08.861233\n"
          ],
          "name": "stdout"
        }
      ]
    },
    {
      "metadata": {
        "id": "i7c0ul6arnmY",
        "colab_type": "code",
        "colab": {},
        "outputId": "17cb9c2e-d72b-487d-c6bf-ffd9957aa196"
      },
      "cell_type": "code",
      "source": [
        "start = datetime.now()\n",
        "preprocessed_data_list=[]\n",
        "reader.fetchone()\n",
        "#fetchone() is used to fetch the records\n",
        "# it fetches int the form of rows\n",
        "#<code> if u see it presents in all all the title and body\n",
        "#i want to remove <code from this title and body\n",
        "# i have assigned rows of header to columns\n",
        "#ro[0] to title,row[1] to questionwhich is body,row[2] to tags\n",
        "questions_with_code=0\n",
        "len_pre=0\n",
        "len_post=0\n",
        "questions_proccesed = 0\n",
        "for row in reader:\n",
        "    is_code = 0\n",
        "    title, question, tags = row[0], row[1], row[2]\n",
        "    if '<code>' in question:\n",
        "        questions_with_code+=1\n",
        "        is_code = 1\n",
        "    x = len(question)+len(title)\n",
        "    len_pre+=x\n",
        "# iam storing adding the lengths before preprocessing so that i can find average at last\n",
        "#i want to substitute the code using re.DOTALL\n",
        "    code = str(re.findall(r'<code>(.*?)</code>', question, flags=re.DOTALL))\n",
        "# i will substitute this <code>woth question  with flags=re.MULTILINE|re.DOTALL\n",
        "    question=re.sub('<code>(.*?)</code>', '', question, flags=re.MULTILINE|re.DOTALL)\n",
        "    question=striphtml(question.encode('utf-8'))\n",
        "#at same time iam making preprocessing of title and question which is body\n",
        "    title=title.encode('utf-8')\n",
        "# this is the important step whereiam mixing question and title to make a question\n",
        "    question=str(title)+\" \"+str(question)\n",
        "    question=re.sub(r'[^A-Za-z]+',' ',question)\n",
        "#there there is two types of tokenize one is word_tokenize\n",
        "#another one is sent_tokenize\n",
        "#word_tokenize will tokenize based on the tokenize based on the number of words\n",
        "#sent_tokenize will tokenize sentences based on sentences based on fullstop\n",
        "#word_tokenize works based on space\n",
        "    words=word_tokenize(str(question))\n",
        "#there is reason we have not tokenized till now is till now we had htmlletters\n",
        "#Removing all single letter and and stopwords from question exceptt for the letter 'c'\n",
        "    question=' '.join(str(stemmer.stem(j)) for j in words if j not in stop_words and (len(j)!=1 or j=='c'))\n",
        "\n",
        "    len_post+=len(question)\n",
        "    tup = (question,code,tags,x,len(question),is_code)\n",
        "    questions_proccesed += 1\n",
        "    #now i am putting all my sentences in writer\n",
        "    writer.execute(\"insert into QuestionsProcessed(question,code,tags,words_pre,words_post,is_code) values (?,?,?,?,?,?)\",tup)\n",
        "    if (questions_proccesed%100000==0):\n",
        "        print(\"number of questions completed=\",questions_proccesed)\n",
        "\n",
        "no_dup_avg_len_pre=(len_pre*1.0)/questions_proccesed\n",
        "no_dup_avg_len_post=(len_post*1.0)/questions_proccesed\n",
        "\n",
        "print( \"Avg. length of questions(Title+Body) before processing: %d\"%no_dup_avg_len_pre)\n",
        "print( \"Avg. length of questions(Title+Body) after processing: %d\"%no_dup_avg_len_post)\n",
        "print (\"Percent of questions containing code: %d\"%((questions_with_code*100.0)/questions_proccesed))\n",
        "\n",
        "print(\"Time taken to run this cell :\", datetime.now() - start)"
      ],
      "execution_count": 0,
      "outputs": [
        {
          "output_type": "stream",
          "text": [
            "Avg. length of questions(Title+Body) before processing: 1172\n",
            "Avg. length of questions(Title+Body) after processing: 341\n",
            "Percent of questions containing code: 57\n",
            "Time taken to run this cell : 0:00:21.844657\n"
          ],
          "name": "stdout"
        }
      ]
    },
    {
      "metadata": {
        "id": "BWdaJR1hrnme",
        "colab_type": "code",
        "colab": {}
      },
      "cell_type": "code",
      "source": [
        "# dont forget to close the connections, or else you will end up with locks\n",
        "conn_r.commit()\n",
        "conn_w.commit()\n",
        "conn_r.close()\n",
        "conn_w.close()"
      ],
      "execution_count": 0,
      "outputs": []
    },
    {
      "metadata": {
        "id": "DK6Rfcm0rnmj",
        "colab_type": "code",
        "colab": {},
        "outputId": "c003e0bb-4385-4415-ef38-bad244906f1c"
      },
      "cell_type": "code",
      "source": [
        "if os.path.isfile(write_db):\n",
        "    conn_r = create_connection(write_db)\n",
        "    if conn_r is not None:\n",
        "        reader =conn_r.cursor()\n",
        "        reader.execute(\"SELECT question From QuestionsProcessed LIMIT 10\")\n",
        "        print(\"Questions after preprocessed\")\n",
        "        print('='*100)\n",
        "        reader.fetchone()\n",
        "        for row in reader:\n",
        "            print(row)\n",
        "            print('-'*100)\n",
        "conn_r.commit()\n",
        "conn_r.close()"
      ],
      "execution_count": 0,
      "outputs": [
        {
          "output_type": "stream",
          "text": [
            "Questions after preprocessed\n",
            "====================================================================================================\n",
            "('is possibl programmat generat touchpad gestur event work os project want programmat generat touchpad gestur event like nseventtypeswip nseventtyperot nso rotat zoom etc applic found generat mous keyboard event touchpad ani idea',)\n",
            "----------------------------------------------------------------------------------------------------\n",
            "('calcul total multipl entri field databas look like how would use php find total hour individu employe work for exampl employe would work total hour employe work total hour',)\n",
            "----------------------------------------------------------------------------------------------------\n",
            "('innodb index merg tabl like row tabl mani combin descriptor id molecul id ts random doubl valu billion row impress queri like mysql would use key intersect result but queri tell use index chosen index index molecul id hit tabl ndescriptor id hit either small part tabl tabl like depend it seem like intersect would faster use index scan rest million row even descriptor id even distribut would still leav row scan averag what miss',)\n",
            "----------------------------------------------------------------------------------------------------\n",
            "('librari music audio analysi visual learn opengl thought might fun creat music visual use particl system curious recommend librari analyz music give standard stuff bmp volum given point song found clam http clam project org wonder bit overkil even mention what recommend guy audio music analysi',)\n",
            "----------------------------------------------------------------------------------------------------\n",
            "('mvc entiti framework rebuild class new mvc applic whenev add chang sql server databas run updat model from databas option edmx design appear work see field addit new store procedur howev chang avaial code delet edmx file start suggest',)\n",
            "----------------------------------------------------------------------------------------------------\n",
            "('solv modular equat with ident xe xa pmod nfind possibl solut note ident nidentifi found solut nexplain ident',)\n",
            "----------------------------------------------------------------------------------------------------\n",
            "('how program decim addit javascript how program decim shift need program think rest would normal add thought program this increment build user press plus minus increment text input',)\n",
            "----------------------------------------------------------------------------------------------------\n",
            "('is cpu run hot core believ run bit hot idl speed it idl deg celsius stock cooler neveryon say comput idl temp individu everybodi els due climat case etc nmi comput consist core stock cooler no oc asus radeon direct cuii antec full tower case mushkin blacklin gb gb mhz asus pro tb seagat rpm someth find interest temperatur differ accord program use know trust for exampl specci alway say mobo temp deg never chang know wrong current temp accord program nspecci deg nasus ai suit deg ncoretemp deg start think might softwar program hardwar problem tell program true',)\n",
            "----------------------------------------------------------------------------------------------------\n",
            "('jqueri durat ajax load call vari use jqueri fill select box check durat call firebug notic time durat ms sometim ms test server use anyth els moment see real reason big differ durat doe anybodi know could caus differ',)\n",
            "----------------------------------------------------------------------------------------------------\n"
          ],
          "name": "stdout"
        }
      ]
    },
    {
      "metadata": {
        "id": "tDGsIwvdrnmn",
        "colab_type": "code",
        "colab": {}
      },
      "cell_type": "code",
      "source": [
        "#finally iam taking now the data into database \n",
        "#after this i train my machine learning models\n",
        "#Taking 0.5 Million entries to a dataframe.\n",
        "write_db = 'Processed.db'\n",
        "if os.path.isfile(write_db):\n",
        "    conn_r = create_connection(write_db)\n",
        "    if conn_r is not None:\n",
        "        preprocessed_data = pd.read_sql_query(\"\"\"SELECT question, Tags FROM QuestionsProcessed\"\"\", conn_r)\n",
        "        \n",
        "conn_r.commit()\n",
        "conn_r.close()"
      ],
      "execution_count": 0,
      "outputs": []
    },
    {
      "metadata": {
        "id": "iSn8l-93rnmq",
        "colab_type": "code",
        "colab": {},
        "outputId": "53653092-d89f-495e-a2a4-29eb76cad04d"
      },
      "cell_type": "code",
      "source": [
        "preprocessed_data.head()"
      ],
      "execution_count": 0,
      "outputs": [
        {
          "output_type": "execute_result",
          "data": {
            "text/html": [
              "<div>\n",
              "<style scoped>\n",
              "    .dataframe tbody tr th:only-of-type {\n",
              "        vertical-align: middle;\n",
              "    }\n",
              "\n",
              "    .dataframe tbody tr th {\n",
              "        vertical-align: top;\n",
              "    }\n",
              "\n",
              "    .dataframe thead th {\n",
              "        text-align: right;\n",
              "    }\n",
              "</style>\n",
              "<table border=\"1\" class=\"dataframe\">\n",
              "  <thead>\n",
              "    <tr style=\"text-align: right;\">\n",
              "      <th></th>\n",
              "      <th>question</th>\n",
              "      <th>tags</th>\n",
              "    </tr>\n",
              "  </thead>\n",
              "  <tbody>\n",
              "    <tr>\n",
              "      <th>0</th>\n",
              "      <td>help urlbst packag for reason fail use urlbst ...</td>\n",
              "      <td>urls</td>\n",
              "    </tr>\n",
              "    <tr>\n",
              "      <th>1</th>\n",
              "      <td>is possibl programmat generat touchpad gestur ...</td>\n",
              "      <td>objective-c xcode osx cocoa touchpad</td>\n",
              "    </tr>\n",
              "    <tr>\n",
              "      <th>2</th>\n",
              "      <td>calcul total multipl entri field databas look ...</td>\n",
              "      <td>php sql</td>\n",
              "    </tr>\n",
              "    <tr>\n",
              "      <th>3</th>\n",
              "      <td>innodb index merg tabl like row tabl mani comb...</td>\n",
              "      <td>mysql index innodb</td>\n",
              "    </tr>\n",
              "    <tr>\n",
              "      <th>4</th>\n",
              "      <td>librari music audio analysi visual learn openg...</td>\n",
              "      <td>c++ audio music</td>\n",
              "    </tr>\n",
              "  </tbody>\n",
              "</table>\n",
              "</div>"
            ],
            "text/plain": [
              "                                            question  \\\n",
              "0  help urlbst packag for reason fail use urlbst ...   \n",
              "1  is possibl programmat generat touchpad gestur ...   \n",
              "2  calcul total multipl entri field databas look ...   \n",
              "3  innodb index merg tabl like row tabl mani comb...   \n",
              "4  librari music audio analysi visual learn openg...   \n",
              "\n",
              "                                   tags  \n",
              "0                                  urls  \n",
              "1  objective-c xcode osx cocoa touchpad  \n",
              "2                               php sql  \n",
              "3                    mysql index innodb  \n",
              "4                       c++ audio music  "
            ]
          },
          "metadata": {
            "tags": []
          },
          "execution_count": 27
        }
      ]
    },
    {
      "metadata": {
        "id": "lZCTdkgcrnmx",
        "colab_type": "code",
        "colab": {}
      },
      "cell_type": "code",
      "source": [
        "#converting tags for multilabel problems\n",
        "from sklearn.feature_extraction.text import CountVectorizer\n",
        "vec=CountVectorizer(tokenizer=lambda x: x.split())\n",
        "multilabely=vec.fit_transform(preprocessed_data['tags'])"
      ],
      "execution_count": 0,
      "outputs": []
    },
    {
      "metadata": {
        "id": "Lz49U01crnm1",
        "colab_type": "code",
        "colab": {}
      },
      "cell_type": "code",
      "source": [
        "#due to low computation power\n",
        "#we have to limit the number of tags we gonna choose\n",
        "#we will use some criterrion to do this\n"
      ],
      "execution_count": 0,
      "outputs": []
    },
    {
      "metadata": {
        "id": "uw2D850frnm5",
        "colab_type": "code",
        "colab": {}
      },
      "cell_type": "code",
      "source": [
        "def tagstochoose(n):\n",
        "    t=multilabely.sum(axis=0).tolist()[0]\n",
        "    #From this we will get the which tag is occuring more frequently\n",
        "    #this is the criterrion we gonna consider\n",
        "    #so we will take the important tags like this \n",
        "    sortedtags=sorted(range(len(t)),key=lambda i :t[i],reverse=True)\n",
        "    multilabely1=multilabely[:,sortedtags[:n]]\n",
        "    \n",
        "    return multilabely1"
      ],
      "execution_count": 0,
      "outputs": []
    },
    {
      "metadata": {
        "id": "BcX63mXMrnm_",
        "colab_type": "code",
        "colab": {}
      },
      "cell_type": "code",
      "source": [
        "def questionsexplained1(n):\n",
        "    multilabelyn=tagstochoose(n)\n",
        "    x=multilabelyn.sum(axis=1)\n",
        "    return (np.count_nonzero(x==0))"
      ],
      "execution_count": 0,
      "outputs": []
    },
    {
      "metadata": {
        "id": "f2mrlNdqrnnE",
        "colab_type": "code",
        "colab": {},
        "outputId": "03632219-2e33-4a2e-b521-c519163679b0"
      },
      "cell_type": "code",
      "source": [
        "import numpy as np\n",
        "questionsexplained=[]\n",
        "totaltags=multilabely.shape[1]\n",
        "totalquestions=preprocessed_data.shape[0]\n",
        "for i in range(500,totaltags,100):\n",
        "    questionsexplained.append(np.round(((totalquestions-questionsexplained1(i))/totalquestions)*100))\n",
        "fig,ax=plt.subplots()\n",
        "ax.plot(questionsexplained)\n",
        "xlabel=list(500+np.array(range(-50,450,50))*50)\n",
        "ax.set_xticklabels(xlabel)\n",
        "plt.xlabel('number of tags')\n",
        "plt.ylabel('number of questions covered partially')\n",
        "plt.grid()\n",
        "plt.show()"
      ],
      "execution_count": 0,
      "outputs": [
        {
          "output_type": "display_data",
          "data": {
            "image/png": "[encoded data removed]",
            "text/plain": [
              "<Figure size 432x288 with 1 Axes>"
            ]
          },
          "metadata": {
            "tags": []
          }
        }
      ]
    },
    {
      "metadata": {
        "id": "JP0l3jCkrnnI",
        "colab_type": "code",
        "colab": {}
      },
      "cell_type": "code",
      "source": [
        "multilabelyx=tagstochoose(5500)\n",
        "totalsize=preprocessed_data.shape[0]\n",
        "trainsize=int(0.8*totalsize)\n",
        "xtrain=preprocessed_data.head(trainsize)\n",
        "xtest=preprocessed_data.tail(totalsize-trainsize)\n",
        "ytrain=multilabelyx[0:trainsize]\n",
        "ytest=multilabelyx[trainsize:totalsize,:]"
      ],
      "execution_count": 0,
      "outputs": []
    },
    {
      "metadata": {
        "id": "QGIkT0j0rnnL",
        "colab_type": "code",
        "colab": {},
        "outputId": "b2afb450-8b81-49b1-e329-4845ef0b6a50"
      },
      "cell_type": "code",
      "source": [
        "print(ytrain.shape)\n",
        "print(xtrain.shape)\n",
        "print(xtest.shape)\n",
        "print(ytest.shape)"
      ],
      "execution_count": 0,
      "outputs": [
        {
          "output_type": "stream",
          "text": [
            "(7999, 5500)\n",
            "(7999, 2)\n",
            "(2000, 2)\n",
            "(2000, 5500)\n"
          ],
          "name": "stdout"
        }
      ]
    },
    {
      "metadata": {
        "id": "bF3E4xt0rnnP",
        "colab_type": "code",
        "colab": {},
        "outputId": "34589cff-3fef-49db-cf65-10e0ba13727f"
      },
      "cell_type": "code",
      "source": [
        "print(xtrain[:2])"
      ],
      "execution_count": 0,
      "outputs": [
        {
          "output_type": "stream",
          "text": [
            "                                            question  \\\n",
            "0  help urlbst packag for reason fail use urlbst ...   \n",
            "1  is possibl programmat generat touchpad gestur ...   \n",
            "\n",
            "                                   tags  \n",
            "0                                  urls  \n",
            "1  objective-c xcode osx cocoa touchpad  \n"
          ],
          "name": "stdout"
        }
      ]
    },
    {
      "metadata": {
        "id": "9BT0zMF2rnnW",
        "colab_type": "code",
        "colab": {},
        "outputId": "9217cdba-4b4e-495c-e25b-b2f748440727"
      },
      "cell_type": "code",
      "source": [
        "print(xtrain.iloc[0,:])"
      ],
      "execution_count": 0,
      "outputs": [
        {
          "output_type": "stream",
          "text": [
            "question    help urlbst packag for reason fail use urlbst ...\n",
            "tags                                                     urls\n",
            "Name: 0, dtype: object\n"
          ],
          "name": "stdout"
        }
      ]
    },
    {
      "metadata": {
        "id": "hC9cz2NrrnnZ",
        "colab_type": "code",
        "colab": {},
        "outputId": "b56b4cbc-116f-49b2-e20e-2ffaa2255ed5"
      },
      "cell_type": "code",
      "source": [
        "print(ytrain[:2])"
      ],
      "execution_count": 0,
      "outputs": [
        {
          "output_type": "stream",
          "text": [
            "  (0, 2606)\t1\n",
            "  (1, 14)\t1\n",
            "  (1, 35)\t1\n",
            "  (1, 30)\t1\n",
            "  (1, 71)\t1\n"
          ],
          "name": "stdout"
        }
      ]
    },
    {
      "metadata": {
        "id": "FthQ5oLkrnne",
        "colab_type": "code",
        "colab": {},
        "outputId": "7c2a18b8-c686-41fb-b9b3-0fa5a1266683"
      },
      "cell_type": "code",
      "source": [
        "print(xtest[:2])"
      ],
      "execution_count": 0,
      "outputs": [
        {
          "output_type": "stream",
          "text": [
            "                                               question  \\\n",
            "7999  how queri gql use entiti key how write queri e...   \n",
            "8000  how access url get respons java servlet new se...   \n",
            "\n",
            "                                     tags  \n",
            "7999  google-app-engine gae-datastore gql  \n",
            "8000                        java servlets  \n"
          ],
          "name": "stdout"
        }
      ]
    },
    {
      "metadata": {
        "id": "WgPAcO1Krnni",
        "colab_type": "text"
      },
      "cell_type": "markdown",
      "source": [
        "actually it is multi class label we are predicting the tags\n",
        "so we have to use multi class classification algortihm\n",
        "we can implement multiclass using the logistic regression and svm using the normal sgd classfier \n",
        "we normally use one vs rest classifier along with sgd classifier\n",
        "how we use the use the sgd classifier is we change the losses generally we know that \n",
        "log loss is for logistic regressiion\n",
        "hinge loss for svm\n",
        "square loss for regression\n",
        "generally when we are using the cross validation with calibratedclassifier cv we se this\n",
        "along eith sgd classifier\n",
        "when we are applying regression using logistic and svm we use the same method"
      ]
    },
    {
      "metadata": {
        "id": "kvkat_Vrrnnk",
        "colab_type": "text"
      },
      "cell_type": "markdown",
      "source": [
        "we can use onevsrest classifier for multi class and multilabel also"
      ]
    },
    {
      "metadata": {
        "id": "cf5ck_hfrnnl",
        "colab_type": "code",
        "colab": {}
      },
      "cell_type": "code",
      "source": [
        "from sklearn.feature_extraction.text import TfidfVectorizer\n",
        "vecty=TfidfVectorizer(min_df=0.00009,tokenizer= lambda x:x.split())\n",
        "xtrainmultilabel=vecty.fit_transform(xtrain['question'])\n",
        "xtestmultilabel=vecty.fit_transform(xtest['question'])\n"
      ],
      "execution_count": 0,
      "outputs": []
    },
    {
      "metadata": {
        "id": "SWRZhwitrnnq",
        "colab_type": "code",
        "colab": {},
        "outputId": "6feae2a7-5be4-4959-cdb8-65d61fe749f8"
      },
      "cell_type": "code",
      "source": [
        "print(xtrainmultilabel.shape)"
      ],
      "execution_count": 0,
      "outputs": [
        {
          "output_type": "stream",
          "text": [
            "(7999, 18159)\n"
          ],
          "name": "stdout"
        }
      ]
    },
    {
      "metadata": {
        "id": "dFnX6M1brnnu",
        "colab_type": "code",
        "colab": {},
        "outputId": "583978fe-182b-42b5-a0f2-967c591f32c2"
      },
      "cell_type": "code",
      "source": [
        "print(xtestmultilabel.shape)"
      ],
      "execution_count": 0,
      "outputs": [
        {
          "output_type": "stream",
          "text": [
            "(2000, 7901)\n"
          ],
          "name": "stdout"
        }
      ]
    },
    {
      "metadata": {
        "id": "RCp6S1Jzrnn2",
        "colab_type": "text"
      },
      "cell_type": "markdown",
      "source": [
        "this is the methiodn we gonna use for multiclass classification using knn\n",
        "actually due to memory constraints we are not writing this in code other\\\n",
        "wise it is powerful to use\\\n",
        "from sklearn.multilearn.adapt import MLKNN\n",
        "classifier=MLKNN(k=21)\n",
        "classifier.fit(xtrainmultilabel,ytrain)\n",
        "prdictions=classifier.predict(xtestmultilabel)\n",
        "print(accuracy_score(ytest,predictions)\n",
        "# actually there are two types of f1score\n",
        "print(metrics.f1score(ytest,predictions,average='micro')\n",
        "print(metrics.f1score(ytest,predictions,averge='macro')\n",
        "print(metrics.hamming_loss(ytest,predictions))\n",
        "\n"
      ]
    },
    {
      "metadata": {
        "id": "jt9zTblwrnn5",
        "colab_type": "text"
      },
      "cell_type": "markdown",
      "source": [
        "this is the method we gonna use for multiclass\n",
        "uisng the logistic regression\n"
      ]
    },
    {
      "metadata": {
        "id": "xw2F7A-8rnn6",
        "colab_type": "text"
      },
      "cell_type": "markdown",
      "source": [
        "classifierlogistic=OneVsRestCalssifier(SGDClassifier(loss='log',alpha=0.00001,penalty='l1'),n_jobs=-1)\n",
        "classifierlogistic.fit(xtrainmultilabel,ytrain)\n",
        "predictions=classifierlogistic.predict(xtestmultilabel)\n",
        "print(\"accuracy\",accuracy_score(ytest,predictions)\n",
        "print(\"f1score\",metrics.f1_score(ytest,predictions,average='micro')\n",
        "print('macro f1_score',metrics.f1_score(ytest,predictions,average='macro')\n",
        "print(hamming_loss(ytest,predictions)\n",
        "print('precision reccall report',metrics.classification_report(ytest,predictions))\\\n",
        "# actually this one vs rest classifier used for \n",
        "both multi class and multi label"
      ]
    },
    {
      "metadata": {
        "id": "-G77kqMernn7",
        "colab_type": "code",
        "colab": {},
        "outputId": "e8d5f9fc-d79f-4176-f7c0-178a2f6970e1"
      },
      "cell_type": "code",
      "source": [
        "sql_create_table = \"\"\"CREATE TABLE IF NOT EXISTS QuestionsProcessed (question text NOT NULL, code text, tags text, words_pre integer, words_post integer, is_code integer);\"\"\"\n",
        "create_database_table(\"Titlemoreweight.db\", sql_create_table)"
      ],
      "execution_count": 0,
      "outputs": [
        {
          "output_type": "stream",
          "text": [
            "Tables in the databse:\n",
            "QuestionsProcessed\n"
          ],
          "name": "stdout"
        }
      ]
    },
    {
      "metadata": {
        "id": "YRtkH03QrnoE",
        "colab_type": "code",
        "colab": {},
        "outputId": "07603084-0862-4a97-c8a4-c8167702eb7f"
      },
      "cell_type": "code",
      "source": [
        "preprocessed_data.shape"
      ],
      "execution_count": 0,
      "outputs": [
        {
          "output_type": "execute_result",
          "data": {
            "text/plain": [
              "(9999, 2)"
            ]
          },
          "metadata": {
            "tags": []
          },
          "execution_count": 43
        }
      ]
    },
    {
      "metadata": {
        "id": "uVc09U_prnoL",
        "colab_type": "code",
        "colab": {},
        "outputId": "ccb029e9-a25d-45a2-a496-767e028a1c21"
      },
      "cell_type": "code",
      "source": [
        "print(\"number of data points in sample :\", preprocessed_data.shape[0])\n",
        "print(\"number of dimensions :\", preprocessed_data.shape[1])"
      ],
      "execution_count": 0,
      "outputs": [
        {
          "output_type": "stream",
          "text": [
            "number of data points in sample : 9999\n",
            "number of dimensions : 2\n"
          ],
          "name": "stdout"
        }
      ]
    },
    {
      "metadata": {
        "id": "Gtg2G3YTrnoQ",
        "colab_type": "code",
        "colab": {}
      },
      "cell_type": "code",
      "source": [
        "vectorizer = CountVectorizer(tokenizer = lambda x: x.split(), binary='true')\n",
        "multilabel_y = vectorizer.fit_transform(preprocessed_data['tags'])"
      ],
      "execution_count": 0,
      "outputs": []
    },
    {
      "metadata": {
        "id": "9vcl12QfrnoX",
        "colab_type": "code",
        "colab": {}
      },
      "cell_type": "code",
      "source": [
        "questions_explained = []\n",
        "total_tags=multilabel_y.shape[1]\n",
        "total_qs=preprocessed_data.shape[0]\n",
        "for i in range(500, total_tags, 100):\n",
        "     questions_explained.append(np.round(((totalquestions-questionsexplained1(i))/totalquestions)*100))"
      ],
      "execution_count": 0,
      "outputs": []
    },
    {
      "metadata": {
        "id": "jY9jZvGTrnob",
        "colab_type": "code",
        "colab": {},
        "outputId": "553adcd0-714c-46f4-88be-e4946c728408"
      },
      "cell_type": "code",
      "source": [
        "fig,ax=plt.subplots()\n",
        "ax.plot(questions_explained)\n",
        "xlabel=list(500+np.array(range(-50,450,50))*50)\n",
        "ax.set_xticklabels(xlabel)\n",
        "plt.xlabel('number of tags')\n",
        "plt.ylabel('number of questions covered partially')\n",
        "plt.grid()\n",
        "plt.show()"
      ],
      "execution_count": 0,
      "outputs": [
        {
          "output_type": "display_data",
          "data": {
            "image/png": "[encoded data removed]",
            "text/plain": [
              "<Figure size 432x288 with 1 Axes>"
            ]
          },
          "metadata": {
            "tags": []
          }
        }
      ]
    },
    {
      "metadata": {
        "id": "eMfMzIQarnoe",
        "colab_type": "code",
        "colab": {}
      },
      "cell_type": "code",
      "source": [
        "multilabel_yx = tagstochoose(500)\n",
        "#print(\"number of questions that are not covered :\", questionsexplained(500),\"out of \", total_qs)"
      ],
      "execution_count": 0,
      "outputs": []
    },
    {
      "metadata": {
        "id": "l4zQEjG0rnoi",
        "colab_type": "code",
        "colab": {},
        "outputId": "4c99da4e-6389-4677-d9a1-080b5c1fe808"
      },
      "cell_type": "code",
      "source": [
        "preprocessed_data.shape"
      ],
      "execution_count": 0,
      "outputs": [
        {
          "output_type": "execute_result",
          "data": {
            "text/plain": [
              "(9999, 2)"
            ]
          },
          "metadata": {
            "tags": []
          },
          "execution_count": 49
        }
      ]
    },
    {
      "metadata": {
        "id": "-nyzu8vjrnoq",
        "colab_type": "code",
        "colab": {}
      },
      "cell_type": "code",
      "source": [
        "vectory=TfidfVectorizer(tokenizer=lambda x:x.split())\n",
        "xtrainymultilabel=vectory.fit_transform(preprocessed_data['question'])\n",
        "\n"
      ],
      "execution_count": 0,
      "outputs": []
    },
    {
      "metadata": {
        "id": "IlzvklU6rnos",
        "colab_type": "code",
        "colab": {},
        "outputId": "f6f179ff-3e1f-417d-8586-4b93eeeab5eb"
      },
      "cell_type": "code",
      "source": [
        "print(xtrainymultilabel.shape)"
      ],
      "execution_count": 0,
      "outputs": [
        {
          "output_type": "stream",
          "text": [
            "(9999, 20807)\n"
          ],
          "name": "stdout"
        }
      ]
    },
    {
      "metadata": {
        "id": "EDpfDgs9rnow",
        "colab_type": "code",
        "colab": {},
        "outputId": "148563b1-3bed-451c-c3c4-6f7ad7468fd9"
      },
      "cell_type": "code",
      "source": [
        "print(multilabel_yx.shape)"
      ],
      "execution_count": 0,
      "outputs": [
        {
          "output_type": "stream",
          "text": [
            "(9999, 500)\n"
          ],
          "name": "stdout"
        }
      ]
    },
    {
      "metadata": {
        "id": "903WldzFrnoz",
        "colab_type": "code",
        "colab": {}
      },
      "cell_type": "code",
      "source": [
        "from sklearn.model_selection import train_test_split\n",
        "xtrain1,xtest1,ytrain1,ytest1=train_test_split(xtrainymultilabel,multilabel_yx,test_size=0.3)"
      ],
      "execution_count": 0,
      "outputs": []
    },
    {
      "metadata": {
        "id": "BeVqVggTrno8",
        "colab_type": "code",
        "colab": {},
        "outputId": "aeadaee6-44b6-4a06-a2fa-925f9ba4d27c"
      },
      "cell_type": "code",
      "source": [
        "print(xtrain1.shape)\n",
        "print(xtest1.shape)\n",
        "print(ytrain1.shape)\n",
        "print(ytest1.shape)"
      ],
      "execution_count": 0,
      "outputs": [
        {
          "output_type": "stream",
          "text": [
            "(6999, 20807)\n",
            "(3000, 20807)\n",
            "(6999, 500)\n",
            "(3000, 500)\n"
          ],
          "name": "stdout"
        }
      ]
    },
    {
      "metadata": {
        "id": "cRm9XOmLrnpA",
        "colab_type": "code",
        "colab": {}
      },
      "cell_type": "code",
      "source": [
        "from sklearn.multiclass import OneVsRestClassifier\n",
        "from sklearn.linear_model import SGDClassifier\n",
        "from sklearn.metrics import accuracy_score\n",
        "from sklearn import metrics"
      ],
      "execution_count": 0,
      "outputs": []
    },
    {
      "metadata": {
        "id": "qo-0GBsvrnpF",
        "colab_type": "code",
        "colab": {},
        "outputId": "124dfa1f-ef2c-41d2-8c12-6ddf4e7060b2"
      },
      "cell_type": "code",
      "source": [
        "\n",
        "classifiery=OneVsRestClassifier(SGDClassifier(loss='log',alpha=0.00001,penalty='l1'),n_jobs=-1)\n",
        "classifiery.fit(xtrain1,ytrain1)\n",
        "predictions2=classifiery.predict(xtest1)\n",
        "print('accuray',accuracy_score(predictions2,ytest1))\n",
        "print('f1score',metrics.f1_score(predictions2,ytest1,average='micro'))\n",
        "print('hamming loss',metrics.hamming_loss(predictions2,ytest1))"
      ],
      "execution_count": 0,
      "outputs": [
        {
          "output_type": "stream",
          "text": [
            "accuray 0.181\n",
            "f1score 0.36919858805072553\n",
            "hamming loss 0.0032166666666666667\n"
          ],
          "name": "stdout"
        }
      ]
    },
    {
      "metadata": {
        "id": "gbVvI4JyrnpL",
        "colab_type": "code",
        "colab": {},
        "outputId": "33b87761-179d-4e1f-a5d4-182dc0481b25"
      },
      "cell_type": "code",
      "source": [
        "print('accuray',accuracy_score(predictions2,ytest1)*100)\n",
        "print('f1score',metrics.f1_score(predictions2,ytest1,average='micro'))\n",
        "print('hamming loss',metrics.hamming_loss(predictions2,ytest1))"
      ],
      "execution_count": 0,
      "outputs": [
        {
          "output_type": "stream",
          "text": [
            "accuray 18.099999999999998\n",
            "f1score 0.36919858805072553\n",
            "hamming loss 0.0032166666666666667\n"
          ],
          "name": "stdout"
        }
      ]
    },
    {
      "metadata": {
        "id": "MvT059ZRrnpO",
        "colab_type": "code",
        "colab": {},
        "outputId": "c5a9a218-3a22-4cc8-f2dc-92a08d1346cb"
      },
      "cell_type": "code",
      "source": [
        "from sklearn.linear_model import LogisticRegression\n",
        "classifierfinal=OneVsRestClassifier(LogisticRegression(penalty='l1'),n_jobs=-1)\n",
        "classifierfinal.fit(xtrain1,ytrain1)\n",
        "predicttionsfinal=classifierfinal.predict(xtest1)\n",
        "print('accuracy',accuracy_score(predicttionsfinal,ytest1))\n",
        "print('f1score',metrics.f1_score(predicttionsfinal,ytest1,average='micro'))\n",
        "print('macrof1score',metrics.f1_score(predicttionsfinal,ytest1,average='macro'))\n",
        "print('hammingloss',metrics.hamming_loss(predicttionsfinal,ytest1))"
      ],
      "execution_count": 0,
      "outputs": [
        {
          "output_type": "stream",
          "text": [
            "accuracy 0.17966666666666667\n",
            "f1score 0.3205693950177936\n",
            "macrof1score 0.15392951180967726\n",
            "hammingloss 0.003182\n"
          ],
          "name": "stdout"
        },
        {
          "output_type": "stream",
          "text": [
            "C:\\Users\\lenovo\\Anaconda3\\lib\\site-packages\\sklearn\\metrics\\classification.py:1135: UndefinedMetricWarning: F-score is ill-defined and being set to 0.0 in labels with no predicted samples.\n",
            "  'precision', 'predicted', average, warn_for)\n",
            "C:\\Users\\lenovo\\Anaconda3\\lib\\site-packages\\sklearn\\metrics\\classification.py:1137: UndefinedMetricWarning: F-score is ill-defined and being set to 0.0 in labels with no true samples.\n",
            "  'recall', 'true', average, warn_for)\n"
          ],
          "name": "stderr"
        }
      ]
    },
    {
      "metadata": {
        "id": "0d_-xCc9rnpR",
        "colab_type": "text"
      },
      "cell_type": "markdown",
      "source": [
        "# 1.bag of words upto 4 grams \n",
        "#due to computation limitation iam limiting to bigrams\n",
        "#computing the f1 score"
      ]
    },
    {
      "metadata": {
        "id": "G8LjqxHErnpR",
        "colab_type": "code",
        "colab": {}
      },
      "cell_type": "code",
      "source": [
        "from sklearn.feature_extraction.text import CountVectorizer\n",
        "vectory=CountVectorizer(min_df=2,ngram_range=(1,2))\n",
        "xtrainymultilabel=vectory.fit_transform(preprocessed_data['question'])\n",
        "xtrain1,xtest1,ytrain1,ytest1=train_test_split(xtrainymultilabel,multilabel_yx,test_size=0.3)\n"
      ],
      "execution_count": 0,
      "outputs": []
    },
    {
      "metadata": {
        "id": "xYOvKt1WrnpV",
        "colab_type": "code",
        "colab": {},
        "outputId": "352aa6bb-b3ad-4498-8110-5e6efdb5f4f1"
      },
      "cell_type": "code",
      "source": [
        "print(xtrain1.shape)\n",
        "print(xtest1.shape)\n",
        "print(ytrain1.shape)\n",
        "print(ytest1.shape)"
      ],
      "execution_count": 0,
      "outputs": [
        {
          "output_type": "stream",
          "text": [
            "(6999, 71550)\n",
            "(3000, 71550)\n",
            "(6999, 500)\n",
            "(3000, 500)\n"
          ],
          "name": "stdout"
        }
      ]
    },
    {
      "metadata": {
        "id": "gcOjIco-rnpa",
        "colab_type": "code",
        "colab": {}
      },
      "cell_type": "code",
      "source": [
        "from sklearn.linear_model import LogisticRegression\n",
        "classifierfinal=OneVsRestClassifier(LogisticRegression(penalty='l1'))\n",
        "\n"
      ],
      "execution_count": 0,
      "outputs": []
    },
    {
      "metadata": {
        "id": "m3wbpt5frnpd",
        "colab_type": "code",
        "colab": {},
        "outputId": "1e4803ad-1ff9-466a-be46-97d35f446ff6"
      },
      "cell_type": "code",
      "source": [
        "classifierfinal.fit(xtrain1,ytrain1)"
      ],
      "execution_count": 0,
      "outputs": [
        {
          "output_type": "execute_result",
          "data": {
            "text/plain": [
              "OneVsRestClassifier(estimator=LogisticRegression(C=1.0, class_weight=None, dual=False, fit_intercept=True,\n",
              "          intercept_scaling=1, max_iter=100, multi_class='ovr', n_jobs=1,\n",
              "          penalty='l1', random_state=None, solver='liblinear', tol=0.0001,\n",
              "          verbose=0, warm_start=False),\n",
              "          n_jobs=1)"
            ]
          },
          "metadata": {
            "tags": []
          },
          "execution_count": 64
        }
      ]
    },
    {
      "metadata": {
        "id": "XaIQRHLCrnpg",
        "colab_type": "code",
        "colab": {}
      },
      "cell_type": "code",
      "source": [
        "predicttionsfinal=classifierfinal.predict(xtest1)"
      ],
      "execution_count": 0,
      "outputs": []
    },
    {
      "metadata": {
        "id": "wMqKF08lrnpi",
        "colab_type": "code",
        "colab": {},
        "outputId": "4d258a2f-23e6-4079-ca7f-85b69629c7fd"
      },
      "cell_type": "code",
      "source": [
        "import warnings\n",
        "warnings.filterwarnings('ignore')\n",
        "print('accuracy',accuracy_score(predicttionsfinal,ytest1))\n",
        "print('f1score',metrics.f1_score(predicttionsfinal,ytest1,average='micro'))\n",
        "print('macrof1score',metrics.f1_score(predicttionsfinal,ytest1,average='macro'))\n",
        "print('hammingloss',metrics.hamming_loss(predicttionsfinal,ytest1))"
      ],
      "execution_count": 0,
      "outputs": [
        {
          "output_type": "stream",
          "text": [
            "accuracy 0.165\n",
            "f1score 0.39565659993213437\n",
            "macrof1score 0.2700809146719943\n",
            "hammingloss 0.003562\n"
          ],
          "name": "stdout"
        }
      ]
    },
    {
      "metadata": {
        "id": "AVWVPAKbrnpm",
        "colab_type": "code",
        "colab": {}
      },
      "cell_type": "code",
      "source": [
        "#2.performing hyperparameter tunung for logistic regression to improve performance"
      ],
      "execution_count": 0,
      "outputs": []
    },
    {
      "metadata": {
        "id": "Qa_e2mefrnpo",
        "colab_type": "code",
        "colab": {},
        "outputId": "2c00dbac-5c11-417b-bf60-afa9a0e2f87d"
      },
      "cell_type": "code",
      "source": [
        "from sklearn.model_selection import GridSearchCV\n",
        "from sklearn.linear_model import LogisticRegression\n",
        "alpha=[10**-2,10**-1,1,10**1,10**2]\n",
        "accuracy=[]\n",
        "f1scores=[]\n",
        "macrof1scores=[]\n",
        "hammingloss=[]\n",
        "for i in alpha:\n",
        "    classifierfinal=OneVsRestClassifier(LogisticRegression(penalty='l1',C=i))\n",
        "    classifierfinal.fit(xtrain1,ytrain1)\n",
        "    predicttionsfinal=classifierfinal.predict(xtest1)\n",
        "    accuracy.append(accuracy_score(predicttionsfinal,ytest1))\n",
        "    f1scores.append(metrics.f1_score(predicttionsfinal,ytest1,average='micro'))\n",
        "    macrof1scores.append(metrics.f1_score(predicttionsfinal,ytest1,average='macro'))\n",
        "    hammingloss.append(metrics.hamming_loss(predicttionsfinal,ytest1))\n",
        "print(accuracy)\n",
        "print(f1scores)\n",
        "print(macrof1scores)\n",
        "print(hammingloss)"
      ],
      "execution_count": 0,
      "outputs": [
        {
          "output_type": "stream",
          "text": [
            "[0.103, 0.128, 0.17966666666666667, 0.17166666666666666, 0.174]\n",
            "[0.0, 0.11863247863247862, 0.3208084258468546, 0.3837108553038743, 0.39101014983083615]\n",
            "[0.0, 0.009900287206098706, 0.1539638552440207, 0.22855648656751168, 0.23750356182155405]\n",
            "[0.0036413333333333332, 0.0034373333333333335, 0.0031813333333333333, 0.0033193333333333334, 0.00336]\n"
          ],
          "name": "stdout"
        }
      ]
    },
    {
      "metadata": {
        "id": "3PKqyRBBrnpr",
        "colab_type": "code",
        "colab": {},
        "outputId": "b679a748-1594-4637-e713-3cb5e3bc51ca"
      },
      "cell_type": "code",
      "source": [
        "import warnings\n",
        "warnings.filterwarnings('ignore')\n",
        "from sklearn.linear_model import LogisticRegression\n",
        "classifierfinal=OneVsRestClassifier(LogisticRegression(C=10**1,penalty='l1'))\n",
        "classifierfinal.fit(xtrain1,ytrain1)\n",
        "predicttionsfinal=classifierfinal.predict(xtest1)\n",
        "print('accuracy',accuracy_score(predicttionsfinal,ytest1))\n",
        "print('f1score',metrics.f1_score(predicttionsfinal,ytest1,average='micro'))\n",
        "print('macrof1score',metrics.f1_score(predicttionsfinal,ytest1,average='macro'))\n",
        "print('hammingloss',metrics.hamming_loss(predicttionsfinal,ytest1))"
      ],
      "execution_count": 0,
      "outputs": [
        {
          "output_type": "stream",
          "text": [
            "accuracy 0.171\n",
            "f1score 0.3833580980683507\n",
            "macrof1score 0.227288455025945\n",
            "hammingloss 0.00332\n"
          ],
          "name": "stdout"
        }
      ]
    },
    {
      "metadata": {
        "id": "QREFWdqVrnpv",
        "colab_type": "code",
        "colab": {}
      },
      "cell_type": "code",
      "source": [
        "#3.one vs rest classifier with sgd classifier with hinge loss"
      ],
      "execution_count": 0,
      "outputs": []
    },
    {
      "metadata": {
        "id": "YQwmdeH6rnpx",
        "colab_type": "code",
        "colab": {},
        "outputId": "8d30d66e-ac1c-44e7-90c7-d5ddf9c9d7fc"
      },
      "cell_type": "code",
      "source": [
        "import warnings\n",
        "warnings.filterwarnings('ignore')\n",
        "from sklearn.linear_model import SGDClassifier\n",
        "classifierfinal=OneVsRestClassifier(SGDClassifier(loss='hinge'))\n",
        "classifierfinal.fit(xtrain1,ytrain1)\n",
        "predicttionsfinal=classifierfinal.predict(xtest1)\n",
        "print('accuracy',accuracy_score(predicttionsfinal,ytest1))\n",
        "print('f1score',metrics.f1_score(predicttionsfinal,ytest1,average='micro'))\n",
        "print('macrof1score',metrics.f1_score(predicttionsfinal,ytest1,average='macro'))\n",
        "print('hammingloss',metrics.hamming_loss(predicttionsfinal,ytest1))"
      ],
      "execution_count": 0,
      "outputs": [
        {
          "output_type": "stream",
          "text": [
            "accuracy 0.182\n",
            "f1score 0.3044510385756677\n",
            "macrof1score 0.11571108860943441\n",
            "hammingloss 0.0031253333333333333\n"
          ],
          "name": "stdout"
        }
      ]
    },
    {
      "metadata": {
        "id": "5rF9M_u4rnpz",
        "colab_type": "raw"
      },
      "cell_type": "markdown",
      "source": [
        "#conclusions:\n",
        "***introduction***\n",
        "* stackoverflow tag prediction is the business probelm with problem statement to predict\n",
        "*the tags of the questions\n",
        "*the type of classififcation we are performing is multilabel calssification\n",
        "#we can employ our machine learning models which we use for our classification\n",
        "* we are using onevsrest classifier with our machinbe learning algorithms\n",
        "*we are using f1 score as our metric to be used\n"
      ]
    },
    {
      "metadata": {
        "id": "Ds7m6RgJrnpz",
        "colab_type": "raw"
      },
      "cell_type": "markdown",
      "source": [
        "***preprocessing***\n",
        "*then we started with the data preprocessing steps which involves\n",
        "*removal of duplicates\n",
        "*filling th null values\n",
        "*but we did not remove any outliers because mainly there are not many features and leass number of numerical features\n",
        "*but we cleaned our text of questions where we removed the unwanted threads.\n"
      ]
    },
    {
      "metadata": {
        "id": "f8TnlCbNrnp0",
        "colab_type": "raw"
      },
      "cell_type": "markdown",
      "source": [
        "***feature engineering***\n",
        "*then we started with the feature engineering\n",
        "*we analysed the number of tags \n",
        "*number off tags that are occuring frequntly\n",
        "*number of data points and number of tags\n",
        "*number of tags per question\n",
        "*after viewing all this we have taken that are occuring more frequently.\n",
        "based on the vocabulary"
      ]
    },
    {
      "metadata": {
        "id": "VIuMq-86rnp1",
        "colab_type": "raw"
      },
      "cell_type": "markdown",
      "source": [
        "***machine learning models***\n",
        "* we can using multiple techinques in bulidong a machine learning model such as \n",
        ".binary relevance\n",
        ".classifier chains\n",
        ".label powerset\n",
        "* we have selected top  tags based on their presence in the tags top 500 are selected\n"
      ]
    },
    {
      "metadata": {
        "id": "8sb4QqpFrnp2",
        "colab_type": "raw"
      },
      "cell_type": "markdown",
      "source": [
        "* we are using tfidf model and bag of words model\n",
        "due to computatition limitation we were not able to perform the multilabel knn\n",
        "actually...\n",
        "*the accuaracy we obtained in this models are less since it is a multi label classification\n",
        "*we  have selected only top 500 tags not all\n"
      ]
    },
    {
      "metadata": {
        "id": "3za88PCvrnp2",
        "colab_type": "raw"
      },
      "cell_type": "markdown",
      "source": [
        "*we have performed algorithms like\n",
        "1.logistic regression model with onevs restr on tfidf vectorizer\n",
        "2.logisticregression model with sgd classifier of log loss\n",
        "(difference between both is the logistic regression model uses gradient descent\n",
        "where as sgde classifier uses stochastic radient descent for optimisation)"
      ]
    },
    {
      "metadata": {
        "id": "qksKVNmYrnp3",
        "colab_type": "code",
        "colab": {},
        "outputId": "51f0999d-1347-450e-99be-032ceaa92caf"
      },
      "cell_type": "code",
      "source": [
        "s=[[0.18,0.369,0.003],[0.179,0.32,0.003]]\n",
        "s1=pd.DataFrame(s,columns=['accuracy','f1score','hammingloss'],index=['sgd classifier with log loss','logistic regression'])\n",
        "s1"
      ],
      "execution_count": 0,
      "outputs": [
        {
          "output_type": "execute_result",
          "data": {
            "text/html": [
              "<div>\n",
              "<style scoped>\n",
              "    .dataframe tbody tr th:only-of-type {\n",
              "        vertical-align: middle;\n",
              "    }\n",
              "\n",
              "    .dataframe tbody tr th {\n",
              "        vertical-align: top;\n",
              "    }\n",
              "\n",
              "    .dataframe thead th {\n",
              "        text-align: right;\n",
              "    }\n",
              "</style>\n",
              "<table border=\"1\" class=\"dataframe\">\n",
              "  <thead>\n",
              "    <tr style=\"text-align: right;\">\n",
              "      <th></th>\n",
              "      <th>accuracy</th>\n",
              "      <th>f1score</th>\n",
              "      <th>hammingloss</th>\n",
              "    </tr>\n",
              "  </thead>\n",
              "  <tbody>\n",
              "    <tr>\n",
              "      <th>sgd classifier with log loss</th>\n",
              "      <td>0.180</td>\n",
              "      <td>0.369</td>\n",
              "      <td>0.003</td>\n",
              "    </tr>\n",
              "    <tr>\n",
              "      <th>logistic regression</th>\n",
              "      <td>0.179</td>\n",
              "      <td>0.320</td>\n",
              "      <td>0.003</td>\n",
              "    </tr>\n",
              "  </tbody>\n",
              "</table>\n",
              "</div>"
            ],
            "text/plain": [
              "                              accuracy  f1score  hammingloss\n",
              "sgd classifier with log loss     0.180    0.369        0.003\n",
              "logistic regression              0.179    0.320        0.003"
            ]
          },
          "metadata": {
            "tags": []
          },
          "execution_count": 92
        }
      ]
    },
    {
      "metadata": {
        "id": "SV6zMtdIrnp8",
        "colab_type": "raw"
      },
      "cell_type": "markdown",
      "source": [
        "# ***for assignments ***\n",
        "1.for logistic regression\n",
        "2.logistiv regression after hyper parameter training\n",
        "3.sgd regressor with hinge loss for svm"
      ]
    },
    {
      "metadata": {
        "id": "C8fMbbLkrnp_",
        "colab_type": "code",
        "colab": {},
        "outputId": "a5ff997e-e6e0-4da0-8439-00545ba0cb71"
      },
      "cell_type": "code",
      "source": [
        "s=[[0.165,0.395,0.27,0.0035],[0.171,0.383,0.227,0.0035],[0.182,0.30,0.11,0.003]]\n",
        "s1=pd.DataFrame(s,columns=['accuracy','f1score','macrof1score','hammingloss'],index=['logistic regression','logistic regression after hyperparameter tuning','sgd regressor with hinge loss'])\n",
        "s1"
      ],
      "execution_count": 0,
      "outputs": [
        {
          "output_type": "execute_result",
          "data": {
            "text/html": [
              "<div>\n",
              "<style scoped>\n",
              "    .dataframe tbody tr th:only-of-type {\n",
              "        vertical-align: middle;\n",
              "    }\n",
              "\n",
              "    .dataframe tbody tr th {\n",
              "        vertical-align: top;\n",
              "    }\n",
              "\n",
              "    .dataframe thead th {\n",
              "        text-align: right;\n",
              "    }\n",
              "</style>\n",
              "<table border=\"1\" class=\"dataframe\">\n",
              "  <thead>\n",
              "    <tr style=\"text-align: right;\">\n",
              "      <th></th>\n",
              "      <th>accuracy</th>\n",
              "      <th>f1score</th>\n",
              "      <th>macrof1score</th>\n",
              "      <th>hammingloss</th>\n",
              "    </tr>\n",
              "  </thead>\n",
              "  <tbody>\n",
              "    <tr>\n",
              "      <th>logistic regression</th>\n",
              "      <td>0.165</td>\n",
              "      <td>0.395</td>\n",
              "      <td>0.270</td>\n",
              "      <td>0.0035</td>\n",
              "    </tr>\n",
              "    <tr>\n",
              "      <th>logistic regression after hyperparameter tuning</th>\n",
              "      <td>0.171</td>\n",
              "      <td>0.383</td>\n",
              "      <td>0.227</td>\n",
              "      <td>0.0035</td>\n",
              "    </tr>\n",
              "    <tr>\n",
              "      <th>sgd regressor with hinge loss</th>\n",
              "      <td>0.182</td>\n",
              "      <td>0.300</td>\n",
              "      <td>0.110</td>\n",
              "      <td>0.0030</td>\n",
              "    </tr>\n",
              "  </tbody>\n",
              "</table>\n",
              "</div>"
            ],
            "text/plain": [
              "                                                 accuracy  f1score  \\\n",
              "logistic regression                                 0.165    0.395   \n",
              "logistic regression after hyperparameter tuning     0.171    0.383   \n",
              "sgd regressor with hinge loss                       0.182    0.300   \n",
              "\n",
              "                                                 macrof1score  hammingloss  \n",
              "logistic regression                                     0.270       0.0035  \n",
              "logistic regression after hyperparameter tuning         0.227       0.0035  \n",
              "sgd regressor with hinge loss                           0.110       0.0030  "
            ]
          },
          "metadata": {
            "tags": []
          },
          "execution_count": 91
        }
      ]
    },
    {
      "metadata": {
        "id": "eQbnucIErnqB",
        "colab_type": "code",
        "colab": {}
      },
      "cell_type": "code",
      "source": [
        ""
      ],
      "execution_count": 0,
      "outputs": []
    }
  ]
}